{
  "cells": [
    {
      "cell_type": "code",
      "execution_count": 1,
      "metadata": {
        "id": "AMVRpaMMAtBF"
      },
      "outputs": [],
      "source": [
        "# For tips on running notebooks in Google Colab, see\n",
        "# https://pytorch.org/tutorials/beginner/colab\n",
        "%matplotlib inline"
      ]
    },
    {
      "cell_type": "markdown",
      "metadata": {
        "id": "YGhrI1EDAtBK"
      },
      "source": [
        "Reinforcement Learning (PPO) with TorchRL Tutorial\n",
        "==================================================\n",
        "\n",
        "**Author**: [Vincent Moens](https://github.com/vmoens)\n",
        "\n",
        "This tutorial demonstrates how to use PyTorch and\n",
        ":py`torchrl`{.interpreted-text role=\"mod\"} to train a parametric policy\n",
        "network to solve the Inverted Pendulum task from the\n",
        "[OpenAI-Gym/Farama-Gymnasium control\n",
        "library](https://github.com/Farama-Foundation/Gymnasium).\n",
        "\n",
        "![Inverted\n",
        "pendulum](https://pytorch.org/tutorials/_static/img/invpendulum.gif)\n",
        "\n",
        "Key learnings:\n",
        "\n",
        "-   How to create an environment in TorchRL, transform its outputs, and\n",
        "    collect data from this environment;\n",
        "-   How to make your classes talk to each other using\n",
        "    `~tensordict.TensorDict`{.interpreted-text role=\"class\"};\n",
        "-   The basics of building your training loop with TorchRL:\n",
        "    -   How to compute the advantage signal for policy gradient methods;\n",
        "    -   How to create a stochastic policy using a probabilistic neural\n",
        "        network;\n",
        "    -   How to create a dynamic replay buffer and sample from it without\n",
        "        repetition.\n",
        "\n",
        "We will cover six crucial components of TorchRL:\n",
        "\n",
        "-   [environments](https://pytorch.org/rl/reference/envs.html)\n",
        "-   [transforms](https://pytorch.org/rl/reference/envs.html#transforms)\n",
        "-   [models (policy and value\n",
        "    function)](https://pytorch.org/rl/reference/modules.html)\n",
        "-   [loss modules](https://pytorch.org/rl/reference/objectives.html)\n",
        "-   [data collectors](https://pytorch.org/rl/reference/collectors.html)\n",
        "-   [replay\n",
        "    buffers](https://pytorch.org/rl/reference/data.html#replay-buffers)\n"
      ]
    },
    {
      "cell_type": "markdown",
      "metadata": {
        "id": "L4Bx3YBAAtBM"
      },
      "source": [
        "If you are running this in Google Colab, make sure you install the\n",
        "following dependencies:\n",
        "\n",
        "``` {.bash}\n",
        "!pip3 install torchrl\n",
        "!pip3 install gym[mujoco]\n",
        "!pip3 install tqdm\n",
        "```\n",
        "\n",
        "Proximal Policy Optimization (PPO) is a policy-gradient algorithm where\n",
        "a batch of data is being collected and directly consumed to train the\n",
        "policy to maximise the expected return given some proximality\n",
        "constraints. You can think of it as a sophisticated version of\n",
        "[REINFORCE](https://link.springer.com/content/pdf/10.1007/BF00992696.pdf),\n",
        "the foundational policy-optimization algorithm. For more information,\n",
        "see the [Proximal Policy Optimization\n",
        "Algorithms](https://arxiv.org/abs/1707.06347) paper.\n",
        "\n",
        "PPO is usually regarded as a fast and efficient method for online,\n",
        "on-policy reinforcement algorithm. TorchRL provides a loss-module that\n",
        "does all the work for you, so that you can rely on this implementation\n",
        "and focus on solving your problem rather than re-inventing the wheel\n",
        "every time you want to train a policy.\n",
        "\n",
        "For completeness, here is a brief overview of what the loss computes,\n",
        "even though this is taken care of by our\n",
        "`~torchrl.objectives.ClipPPOLoss`{.interpreted-text role=\"class\"}\n",
        "module---the algorithm works as follows: 1. we will sample a batch of\n",
        "data by playing the policy in the environment for a given number of\n",
        "steps. 2. Then, we will perform a given number of optimization steps\n",
        "with random sub-samples of this batch using a clipped version of the\n",
        "REINFORCE loss. 3. The clipping will put a pessimistic bound on our\n",
        "loss: lower return estimates will be favored compared to higher ones.\n",
        "The precise formula of the loss is:\n",
        "\n",
        "$$L(s,a,\\theta_k,\\theta) = \\min\\left(\n",
        "\\frac{\\pi_{\\theta}(a|s)}{\\pi_{\\theta_k}(a|s)}  A^{\\pi_{\\theta_k}}(s,a), \\;\\;\n",
        "g(\\epsilon, A^{\\pi_{\\theta_k}}(s,a))\n",
        "\\right),$$\n",
        "\n",
        "There are two components in that loss: in the first part of the minimum\n",
        "operator, we simply compute an importance-weighted version of the\n",
        "REINFORCE loss (for example, a REINFORCE loss that we have corrected for\n",
        "the fact that the current policy configuration lags the one that was\n",
        "used for the data collection). The second part of that minimum operator\n",
        "is a similar loss where we have clipped the ratios when they exceeded or\n",
        "were below a given pair of thresholds.\n",
        "\n",
        "This loss ensures that whether the advantage is positive or negative,\n",
        "policy updates that would produce significant shifts from the previous\n",
        "configuration are being discouraged.\n",
        "\n",
        "This tutorial is structured as follows:\n",
        "\n",
        "1.  First, we will define a set of hyperparameters we will be using for\n",
        "    training.\n",
        "2.  Next, we will focus on creating our environment, or simulator, using\n",
        "    TorchRL\\'s wrappers and transforms.\n",
        "3.  Next, we will design the policy network and the value model, which\n",
        "    is indispensable to the loss function. These modules will be used to\n",
        "    configure our loss module.\n",
        "4.  Next, we will create the replay buffer and data loader.\n",
        "5.  Finally, we will run our training loop and analyze the results.\n",
        "\n",
        "Throughout this tutorial, we\\'ll be using the\n",
        "`tensordict`{.interpreted-text role=\"mod\"} library.\n",
        "`~tensordict.TensorDict`{.interpreted-text role=\"class\"} is the lingua\n",
        "franca of TorchRL: it helps us abstract what a module reads and writes\n",
        "and care less about the specific data description and more about the\n",
        "algorithm itself.\n"
      ]
    },
    {
      "cell_type": "markdown",
      "metadata": {
        "colab": {
          "base_uri": "https://localhost:8080/"
        },
        "id": "bE1lnE4N8Pa7",
        "outputId": "c6023fda-5b12-4b82-a88b-da8dbcc79739"
      },
      "source": [
        "!pip install gymnasium[mujoco]==0.29.1\n",
        "# !pip install tensordict\n",
        "!pip install torchrl\n",
        "\n",
        "# !pip3 install torchrl\n",
        "# !pip3 install gym[mujoco]\n",
        "# !pip3 install tqdm"
      ]
    },
    {
      "cell_type": "code",
      "execution_count": 2,
      "metadata": {
        "id": "749OIBamAtBN"
      },
      "outputs": [],
      "source": [
        "import warnings\n",
        "warnings.filterwarnings(\"ignore\")\n",
        "from torch import multiprocessing\n",
        "\n",
        "\n",
        "from collections import defaultdict\n",
        "\n",
        "import matplotlib.pyplot as plt\n",
        "import torch\n",
        "from tensordict.nn import TensorDictModule\n",
        "from tensordict.nn.distributions import NormalParamExtractor\n",
        "from torch import nn\n",
        "from torchrl.collectors import SyncDataCollector\n",
        "from torchrl.data.replay_buffers import ReplayBuffer\n",
        "from torchrl.data.replay_buffers.samplers import SamplerWithoutReplacement\n",
        "from torchrl.data.replay_buffers.storages import LazyTensorStorage\n",
        "from torchrl.envs import (Compose, DoubleToFloat, ObservationNorm, StepCounter,\n",
        "                          TransformedEnv)\n",
        "from torchrl.envs.libs.gym import GymEnv\n",
        "from torchrl.envs.utils import check_env_specs, ExplorationType, set_exploration_type\n",
        "from torchrl.modules import ProbabilisticActor, TanhNormal, ValueOperator\n",
        "from torchrl.objectives import ClipPPOLoss\n",
        "from torchrl.objectives.value import GAE\n",
        "from tqdm import tqdm"
      ]
    },
    {
      "cell_type": "markdown",
      "metadata": {
        "id": "VoZyXviPAtBO"
      },
      "source": [
        "Define Hyperparameters\n",
        "======================\n",
        "\n",
        "We set the hyperparameters for our algorithm. Depending on the resources\n",
        "available, one may choose to execute the policy on GPU or on another\n",
        "device. The `frame_skip` will control how for how many frames is a\n",
        "single action being executed. The rest of the arguments that count\n",
        "frames must be corrected for this value (since one environment step will\n",
        "actually return `frame_skip` frames).\n"
      ]
    },
    {
      "cell_type": "code",
      "execution_count": 3,
      "metadata": {
        "id": "27Qpj-nfAtBO"
      },
      "outputs": [],
      "source": [
        "is_fork = multiprocessing.get_start_method() == \"fork\"\n",
        "device = (\n",
        "    torch.device(0)\n",
        "    if torch.cuda.is_available() and not is_fork\n",
        "    else torch.device(\"cpu\")\n",
        ")\n",
        "num_cells = 256  # number of cells in each layer i.e. output dim.\n",
        "lr = 3e-4\n",
        "max_grad_norm = 1.0"
      ]
    },
    {
      "cell_type": "markdown",
      "metadata": {
        "id": "XSRA14J8AtBO"
      },
      "source": [
        "Data collection parameters\n",
        "==========================\n",
        "\n",
        "When collecting data, we will be able to choose how big each batch will\n",
        "be by defining a `frames_per_batch` parameter. We will also define how\n",
        "many frames (such as the number of interactions with the simulator) we\n",
        "will allow ourselves to use. In general, the goal of an RL algorithm is\n",
        "to learn to solve the task as fast as it can in terms of environment\n",
        "interactions: the lower the `total_frames` the better.\n"
      ]
    },
    {
      "cell_type": "code",
      "execution_count": 4,
      "metadata": {
        "id": "Fj-jD5NmAtBP"
      },
      "outputs": [],
      "source": [
        "frames_per_batch = 1000\n",
        "# For a complete training, bring the number of frames up to 1M\n",
        "\n",
        "\n",
        "#total_frames = 250_000\n",
        "#total_frames = 10_000\n",
        "total_frames = 1_000_000\n"
      ]
    },
    {
      "cell_type": "markdown",
      "metadata": {
        "id": "YrEfVIUGAtBP"
      },
      "source": [
        "PPO parameters\n",
        "==============\n",
        "\n",
        "At each data collection (or batch collection) we will run the\n",
        "optimization over a certain number of *epochs*, each time consuming the\n",
        "entire data we just acquired in a nested training loop. Here, the\n",
        "`sub_batch_size` is different from the `frames_per_batch` here above:\n",
        "recall that we are working with a \\\"batch of data\\\" coming from our\n",
        "collector, which size is defined by `frames_per_batch`, and that we will\n",
        "further split in smaller sub-batches during the inner training loop. The\n",
        "size of these sub-batches is controlled by `sub_batch_size`.\n"
      ]
    },
    {
      "cell_type": "code",
      "execution_count": 5,
      "metadata": {
        "id": "Twq7Okb1AtBQ"
      },
      "outputs": [],
      "source": [
        "sub_batch_size = 64  # cardinality of the sub-samples gathered from the current data in the inner loop\n",
        "num_epochs = 10  # optimization steps per batch of data collected\n",
        "clip_epsilon = (\n",
        "    0.2  # clip value for PPO loss: see the equation in the intro for more context.\n",
        ")\n",
        "gamma = 0.99\n",
        "lmbda = 0.95\n",
        "entropy_eps = 1e-4"
      ]
    },
    {
      "cell_type": "markdown",
      "metadata": {
        "id": "Tr4v6WSYAtBQ"
      },
      "source": [
        "Define an environment\n",
        "=====================\n",
        "\n",
        "In RL, an *environment* is usually the way we refer to a simulator or a\n",
        "control system. Various libraries provide simulation environments for\n",
        "reinforcement learning, including Gymnasium (previously OpenAI Gym),\n",
        "DeepMind control suite, and many others. As a general library,\n",
        "TorchRL\\'s goal is to provide an interchangeable interface to a large\n",
        "panel of RL simulators, allowing you to easily swap one environment with\n",
        "another. For example, creating a wrapped gym environment can be achieved\n",
        "with few characters:\n"
      ]
    },
    {
      "cell_type": "code",
      "execution_count": 6,
      "metadata": {
        "id": "zXJF0yOdAtBQ"
      },
      "outputs": [],
      "source": [
        "env_name = \"Hopper-v4\"\n",
        "base_env = GymEnv(env_name, device=device)"
      ]
    },
    {
      "cell_type": "markdown",
      "metadata": {},
      "source": [
        "### setting run_name\n"
      ]
    },
    {
      "cell_type": "code",
      "execution_count": 7,
      "metadata": {},
      "outputs": [],
      "source": [
        "run_name = f'PPO_{env_name}_{total_frames}'"
      ]
    },
    {
      "cell_type": "markdown",
      "metadata": {
        "id": "h5jaSyUEAtBR"
      },
      "source": [
        "There are a few things to notice in this code: first, we created the\n",
        "environment by calling the `GymEnv` wrapper. If extra keyword arguments\n",
        "are passed, they will be transmitted to the `gym.make` method, hence\n",
        "covering the most common environment construction commands.\n",
        "Alternatively, one could also directly create a gym environment using\n",
        "`gym.make(env_name, **kwargs)` and wrap it in a [GymWrapper]{.title-ref}\n",
        "class.\n",
        "\n",
        "Also the `device` argument: for gym, this only controls the device where\n",
        "input action and observed states will be stored, but the execution will\n",
        "always be done on CPU. The reason for this is simply that gym does not\n",
        "support on-device execution, unless specified otherwise. For other\n",
        "libraries, we have control over the execution device and, as much as we\n",
        "can, we try to stay consistent in terms of storing and execution\n",
        "backends.\n",
        "\n",
        "Transforms\n",
        "==========\n",
        "\n",
        "We will append some transforms to our environments to prepare the data\n",
        "for the policy. In Gym, this is usually achieved via wrappers. TorchRL\n",
        "takes a different approach, more similar to other pytorch domain\n",
        "libraries, through the use of transforms. To add transforms to an\n",
        "environment, one should simply wrap it in a\n",
        "`~torchrl.envs.transforms.TransformedEnv`{.interpreted-text\n",
        "role=\"class\"} instance and append the sequence of transforms to it. The\n",
        "transformed environment will inherit the device and meta-data of the\n",
        "wrapped environment, and transform these depending on the sequence of\n",
        "transforms it contains.\n",
        "\n",
        "Normalization\n",
        "=============\n",
        "\n",
        "The first to encode is a normalization transform. As a rule of thumbs,\n",
        "it is preferable to have data that loosely match a unit Gaussian\n",
        "distribution: to obtain this, we will run a certain number of random\n",
        "steps in the environment and compute the summary statistics of these\n",
        "observations.\n",
        "\n",
        "We\\'ll append two other transforms: the\n",
        "`~torchrl.envs.transforms.DoubleToFloat`{.interpreted-text role=\"class\"}\n",
        "transform will convert double entries to single-precision numbers, ready\n",
        "to be read by the policy. The\n",
        "`~torchrl.envs.transforms.StepCounter`{.interpreted-text role=\"class\"}\n",
        "transform will be used to count the steps before the environment is\n",
        "terminated. We will use this measure as a supplementary measure of\n",
        "performance.\n",
        "\n",
        "As we will see later, many of the TorchRL\\'s classes rely on\n",
        "`~tensordict.TensorDict`{.interpreted-text role=\"class\"} to communicate.\n",
        "You could think of it as a python dictionary with some extra tensor\n",
        "features. In practice, this means that many modules we will be working\n",
        "with need to be told what key to read (`in_keys`) and what key to write\n",
        "(`out_keys`) in the `tensordict` they will receive. Usually, if\n",
        "`out_keys` is omitted, it is assumed that the `in_keys` entries will be\n",
        "updated in-place. For our transforms, the only entry we are interested\n",
        "in is referred to as `\"observation\"` and our transform layers will be\n",
        "told to modify this entry and this entry only:\n"
      ]
    },
    {
      "cell_type": "code",
      "execution_count": 8,
      "metadata": {
        "id": "P5j7uYFUAtBR"
      },
      "outputs": [],
      "source": [
        "env = TransformedEnv(\n",
        "    base_env,\n",
        "    Compose(\n",
        "        # normalize observations\n",
        "        ObservationNorm(in_keys=[\"observation\"]),\n",
        "        DoubleToFloat(),\n",
        "        StepCounter(),\n",
        "    ),\n",
        ")"
      ]
    },
    {
      "cell_type": "markdown",
      "metadata": {
        "id": "oxjRqwnoAtBS"
      },
      "source": [
        "As you may have noticed, we have created a normalization layer but we\n",
        "did not set its normalization parameters. To do this,\n",
        "`~torchrl.envs.transforms.ObservationNorm`{.interpreted-text\n",
        "role=\"class\"} can automatically gather the summary statistics of our\n",
        "environment:\n"
      ]
    },
    {
      "cell_type": "code",
      "execution_count": 9,
      "metadata": {
        "id": "CLt-mWOSAtBS"
      },
      "outputs": [],
      "source": [
        "env.transform[0].init_stats(num_iter=1000, reduce_dim=0, cat_dim=0)"
      ]
    },
    {
      "cell_type": "markdown",
      "metadata": {
        "id": "dhfYAs9BAtBT"
      },
      "source": [
        "The `~torchrl.envs.transforms.ObservationNorm`{.interpreted-text\n",
        "role=\"class\"} transform has now been populated with a location and a\n",
        "scale that will be used to normalize the data.\n",
        "\n",
        "Let us do a little sanity check for the shape of our summary stats:\n"
      ]
    },
    {
      "cell_type": "code",
      "execution_count": 10,
      "metadata": {
        "colab": {
          "base_uri": "https://localhost:8080/"
        },
        "id": "bXriKNqlAtBT",
        "outputId": "cfd0a7fe-f0e1-4dce-b0f4-419fbc8e7a74"
      },
      "outputs": [
        {
          "name": "stdout",
          "output_type": "stream",
          "text": [
            "normalization constant shape: torch.Size([11])\n"
          ]
        }
      ],
      "source": [
        "print(\"normalization constant shape:\", env.transform[0].loc.shape)"
      ]
    },
    {
      "cell_type": "markdown",
      "metadata": {
        "id": "b1TD7D1pAtBT"
      },
      "source": [
        "An environment is not only defined by its simulator and transforms, but\n",
        "also by a series of metadata that describe what can be expected during\n",
        "its execution. For efficiency purposes, TorchRL is quite stringent when\n",
        "it comes to environment specs, but you can easily check that your\n",
        "environment specs are adequate. In our example, the\n",
        "`~torchrl.envs.libs.gym.GymWrapper`{.interpreted-text role=\"class\"} and\n",
        "`~torchrl.envs.libs.gym.GymEnv`{.interpreted-text role=\"class\"} that\n",
        "inherits from it already take care of setting the proper specs for your\n",
        "environment so you should not have to care about this.\n",
        "\n",
        "Nevertheless, let\\'s see a concrete example using our transformed\n",
        "environment by looking at its specs. There are three specs to look at:\n",
        "`observation_spec` which defines what is to be expected when executing\n",
        "an action in the environment, `reward_spec` which indicates the reward\n",
        "domain and finally the `input_spec` (which contains the `action_spec`)\n",
        "and which represents everything an environment requires to execute a\n",
        "single step.\n"
      ]
    },
    {
      "cell_type": "code",
      "execution_count": 11,
      "metadata": {
        "colab": {
          "base_uri": "https://localhost:8080/"
        },
        "id": "Xw21Hj3zAtBU",
        "outputId": "5619adba-084b-43ac-fcc3-b5680c857a1d"
      },
      "outputs": [
        {
          "name": "stdout",
          "output_type": "stream",
          "text": [
            "observation_spec: Composite(\n",
            "    observation: UnboundedContinuous(\n",
            "        shape=torch.Size([11]),\n",
            "        space=ContinuousBox(\n",
            "            low=Tensor(shape=torch.Size([11]), device=cuda:0, dtype=torch.float32, contiguous=True),\n",
            "            high=Tensor(shape=torch.Size([11]), device=cuda:0, dtype=torch.float32, contiguous=True)),\n",
            "        device=cuda:0,\n",
            "        dtype=torch.float32,\n",
            "        domain=continuous),\n",
            "    step_count: BoundedDiscrete(\n",
            "        shape=torch.Size([1]),\n",
            "        space=ContinuousBox(\n",
            "            low=Tensor(shape=torch.Size([1]), device=cuda:0, dtype=torch.int64, contiguous=True),\n",
            "            high=Tensor(shape=torch.Size([1]), device=cuda:0, dtype=torch.int64, contiguous=True)),\n",
            "        device=cuda:0,\n",
            "        dtype=torch.int64,\n",
            "        domain=discrete),\n",
            "    device=cuda:0,\n",
            "    shape=torch.Size([]))\n",
            "reward_spec: UnboundedContinuous(\n",
            "    shape=torch.Size([1]),\n",
            "    space=ContinuousBox(\n",
            "        low=Tensor(shape=torch.Size([1]), device=cuda:0, dtype=torch.float32, contiguous=True),\n",
            "        high=Tensor(shape=torch.Size([1]), device=cuda:0, dtype=torch.float32, contiguous=True)),\n",
            "    device=cuda:0,\n",
            "    dtype=torch.float32,\n",
            "    domain=continuous)\n",
            "input_spec: Composite(\n",
            "    full_state_spec: Composite(\n",
            "        step_count: BoundedDiscrete(\n",
            "            shape=torch.Size([1]),\n",
            "            space=ContinuousBox(\n",
            "                low=Tensor(shape=torch.Size([1]), device=cuda:0, dtype=torch.int64, contiguous=True),\n",
            "                high=Tensor(shape=torch.Size([1]), device=cuda:0, dtype=torch.int64, contiguous=True)),\n",
            "            device=cuda:0,\n",
            "            dtype=torch.int64,\n",
            "            domain=discrete),\n",
            "        device=cuda:0,\n",
            "        shape=torch.Size([])),\n",
            "    full_action_spec: Composite(\n",
            "        action: BoundedContinuous(\n",
            "            shape=torch.Size([3]),\n",
            "            space=ContinuousBox(\n",
            "                low=Tensor(shape=torch.Size([3]), device=cuda:0, dtype=torch.float32, contiguous=True),\n",
            "                high=Tensor(shape=torch.Size([3]), device=cuda:0, dtype=torch.float32, contiguous=True)),\n",
            "            device=cuda:0,\n",
            "            dtype=torch.float32,\n",
            "            domain=continuous),\n",
            "        device=cuda:0,\n",
            "        shape=torch.Size([])),\n",
            "    device=cuda:0,\n",
            "    shape=torch.Size([]))\n",
            "action_spec (as defined by input_spec): BoundedContinuous(\n",
            "    shape=torch.Size([3]),\n",
            "    space=ContinuousBox(\n",
            "        low=Tensor(shape=torch.Size([3]), device=cuda:0, dtype=torch.float32, contiguous=True),\n",
            "        high=Tensor(shape=torch.Size([3]), device=cuda:0, dtype=torch.float32, contiguous=True)),\n",
            "    device=cuda:0,\n",
            "    dtype=torch.float32,\n",
            "    domain=continuous)\n"
          ]
        }
      ],
      "source": [
        "print(\"observation_spec:\", env.observation_spec)\n",
        "print(\"reward_spec:\", env.reward_spec)\n",
        "print(\"input_spec:\", env.input_spec)\n",
        "print(\"action_spec (as defined by input_spec):\", env.action_spec)"
      ]
    },
    {
      "cell_type": "markdown",
      "metadata": {
        "id": "rEc9JpmVAtBU"
      },
      "source": [
        "the `check_env_specs`{.interpreted-text role=\"func\"} function runs a\n",
        "small rollout and compares its output against the environment specs. If\n",
        "no error is raised, we can be confident that the specs are properly\n",
        "defined:\n"
      ]
    },
    {
      "cell_type": "code",
      "execution_count": 12,
      "metadata": {
        "colab": {
          "base_uri": "https://localhost:8080/"
        },
        "id": "cbA6V4sVAtBU",
        "outputId": "1433f1db-c67b-4c31-902e-936003a27f95"
      },
      "outputs": [
        {
          "name": "stderr",
          "output_type": "stream",
          "text": [
            "2025-02-21 21:33:44,942 [torchrl][INFO] check_env_specs succeeded!\n"
          ]
        }
      ],
      "source": [
        "check_env_specs(env)"
      ]
    },
    {
      "cell_type": "markdown",
      "metadata": {
        "id": "9ydE79BzAtBV"
      },
      "source": [
        "For fun, let\\'s see what a simple random rollout looks like. You can\n",
        "call [env.rollout(n\\_steps)]{.title-ref} and get an overview of what the\n",
        "environment inputs and outputs look like. Actions will automatically be\n",
        "drawn from the action spec domain, so you don\\'t need to care about\n",
        "designing a random sampler.\n",
        "\n",
        "Typically, at each step, an RL environment receives an action as input,\n",
        "and outputs an observation, a reward and a done state. The observation\n",
        "may be composite, meaning that it could be composed of more than one\n",
        "tensor. This is not a problem for TorchRL, since the whole set of\n",
        "observations is automatically packed in the output\n",
        "`~tensordict.TensorDict`{.interpreted-text role=\"class\"}. After\n",
        "executing a rollout (for example, a sequence of environment steps and\n",
        "random action generations) over a given number of steps, we will\n",
        "retrieve a `~tensordict.TensorDict`{.interpreted-text role=\"class\"}\n",
        "instance with a shape that matches this trajectory length:\n"
      ]
    },
    {
      "cell_type": "code",
      "execution_count": 13,
      "metadata": {
        "colab": {
          "base_uri": "https://localhost:8080/"
        },
        "id": "WEiA1p61AtBV",
        "outputId": "88c6a625-3b7f-4775-97ff-5e4fcabd90b2"
      },
      "outputs": [
        {
          "name": "stdout",
          "output_type": "stream",
          "text": [
            "rollout of three steps: TensorDict(\n",
            "    fields={\n",
            "        action: Tensor(shape=torch.Size([3, 3]), device=cuda:0, dtype=torch.float32, is_shared=True),\n",
            "        done: Tensor(shape=torch.Size([3, 1]), device=cuda:0, dtype=torch.bool, is_shared=True),\n",
            "        next: TensorDict(\n",
            "            fields={\n",
            "                done: Tensor(shape=torch.Size([3, 1]), device=cuda:0, dtype=torch.bool, is_shared=True),\n",
            "                observation: Tensor(shape=torch.Size([3, 11]), device=cuda:0, dtype=torch.float32, is_shared=True),\n",
            "                reward: Tensor(shape=torch.Size([3, 1]), device=cuda:0, dtype=torch.float32, is_shared=True),\n",
            "                step_count: Tensor(shape=torch.Size([3, 1]), device=cuda:0, dtype=torch.int64, is_shared=True),\n",
            "                terminated: Tensor(shape=torch.Size([3, 1]), device=cuda:0, dtype=torch.bool, is_shared=True),\n",
            "                truncated: Tensor(shape=torch.Size([3, 1]), device=cuda:0, dtype=torch.bool, is_shared=True)},\n",
            "            batch_size=torch.Size([3]),\n",
            "            device=cuda:0,\n",
            "            is_shared=True),\n",
            "        observation: Tensor(shape=torch.Size([3, 11]), device=cuda:0, dtype=torch.float32, is_shared=True),\n",
            "        step_count: Tensor(shape=torch.Size([3, 1]), device=cuda:0, dtype=torch.int64, is_shared=True),\n",
            "        terminated: Tensor(shape=torch.Size([3, 1]), device=cuda:0, dtype=torch.bool, is_shared=True),\n",
            "        truncated: Tensor(shape=torch.Size([3, 1]), device=cuda:0, dtype=torch.bool, is_shared=True)},\n",
            "    batch_size=torch.Size([3]),\n",
            "    device=cuda:0,\n",
            "    is_shared=True)\n",
            "Shape of the rollout TensorDict: torch.Size([3])\n"
          ]
        }
      ],
      "source": [
        "rollout = env.rollout(3)\n",
        "print(\"rollout of three steps:\", rollout)\n",
        "print(\"Shape of the rollout TensorDict:\", rollout.batch_size)"
      ]
    },
    {
      "cell_type": "markdown",
      "metadata": {
        "id": "xWPzn8ifAtBV"
      },
      "source": [
        "Our rollout data has a shape of `torch.Size([3])`, which matches the\n",
        "number of steps we ran it for. The `\"next\"` entry points to the data\n",
        "coming after the current step. In most cases, the `\"next\"` data at time\n",
        "[t]{.title-ref} matches the data at `t+1`, but this may not be the case\n",
        "if we are using some specific transformations (for example, multi-step).\n",
        "\n",
        "Policy\n",
        "======\n",
        "\n",
        "PPO utilizes a stochastic policy to handle exploration. This means that\n",
        "our neural network will have to output the parameters of a distribution,\n",
        "rather than a single value corresponding to the action taken.\n",
        "\n",
        "As the data is continuous, we use a Tanh-Normal distribution to respect\n",
        "the action space boundaries. TorchRL provides such distribution, and the\n",
        "only thing we need to care about is to build a neural network that\n",
        "outputs the right number of parameters for the policy to work with (a\n",
        "location, or mean, and a scale):\n",
        "\n",
        "$$f_{\\theta}(\\text{observation}) = \\mu_{\\theta}(\\text{observation}), \\sigma^{+}_{\\theta}(\\text{observation})$$\n",
        "\n",
        "The only extra-difficulty that is brought up here is to split our output\n",
        "in two equal parts and map the second to a strictly positive space.\n",
        "\n",
        "We design the policy in three steps:\n",
        "\n",
        "1.  Define a neural network `D_obs` -\\> `2 * D_action`. Indeed, our\n",
        "    `loc` (mu) and `scale` (sigma) both have dimension `D_action`.\n",
        "2.  Append a\n",
        "    `~tensordict.nn.distributions.NormalParamExtractor`{.interpreted-text\n",
        "    role=\"class\"} to extract a location and a scale (for example, splits\n",
        "    the input in two equal parts and applies a positive transformation\n",
        "    to the scale parameter).\n",
        "3.  Create a probabilistic\n",
        "    `~tensordict.nn.TensorDictModule`{.interpreted-text role=\"class\"}\n",
        "    that can generate this distribution and sample from it.\n"
      ]
    },
    {
      "cell_type": "code",
      "execution_count": 14,
      "metadata": {
        "id": "grL9BLciAtBW"
      },
      "outputs": [],
      "source": [
        "actor_net = nn.Sequential(\n",
        "    nn.LazyLinear(num_cells, device=device),\n",
        "    nn.Tanh(),\n",
        "    nn.LazyLinear(num_cells, device=device),\n",
        "    nn.Tanh(),\n",
        "    nn.LazyLinear(num_cells, device=device),\n",
        "    nn.Tanh(),\n",
        "    nn.LazyLinear(2 * env.action_spec.shape[-1], device=device),\n",
        "    NormalParamExtractor(),\n",
        ")"
      ]
    },
    {
      "cell_type": "markdown",
      "metadata": {
        "id": "EFQohvh0AtBW"
      },
      "source": [
        "To enable the policy to \\\"talk\\\" with the environment through the\n",
        "`tensordict` data carrier, we wrap the `nn.Module` in a\n",
        "`~tensordict.nn.TensorDictModule`{.interpreted-text role=\"class\"}. This\n",
        "class will simply ready the `in_keys` it is provided with and write the\n",
        "outputs in-place at the registered `out_keys`.\n"
      ]
    },
    {
      "cell_type": "code",
      "execution_count": 15,
      "metadata": {
        "id": "a1C0u32qAtBW"
      },
      "outputs": [],
      "source": [
        "policy_module = TensorDictModule(\n",
        "    actor_net, in_keys=[\"observation\"], out_keys=[\"loc\", \"scale\"]\n",
        ")"
      ]
    },
    {
      "cell_type": "markdown",
      "metadata": {
        "id": "UPU_wic7AtBX"
      },
      "source": [
        "We now need to build a distribution out of the location and scale of our\n",
        "normal distribution. To do so, we instruct the\n",
        "`~torchrl.modules.tensordict_module.ProbabilisticActor`{.interpreted-text\n",
        "role=\"class\"} class to build a\n",
        "`~torchrl.modules.TanhNormal`{.interpreted-text role=\"class\"} out of the\n",
        "location and scale parameters. We also provide the minimum and maximum\n",
        "values of this distribution, which we gather from the environment specs.\n",
        "\n",
        "The name of the `in_keys` (and hence the name of the `out_keys` from the\n",
        "`~tensordict.nn.TensorDictModule`{.interpreted-text role=\"class\"} above)\n",
        "cannot be set to any value one may like, as the\n",
        "`~torchrl.modules.TanhNormal`{.interpreted-text role=\"class\"}\n",
        "distribution constructor will expect the `loc` and `scale` keyword\n",
        "arguments. That being said,\n",
        "`~torchrl.modules.tensordict_module.ProbabilisticActor`{.interpreted-text\n",
        "role=\"class\"} also accepts `Dict[str, str]` typed `in_keys` where the\n",
        "key-value pair indicates what `in_key` string should be used for every\n",
        "keyword argument that is to be used.\n"
      ]
    },
    {
      "cell_type": "code",
      "execution_count": 16,
      "metadata": {
        "colab": {
          "base_uri": "https://localhost:8080/"
        },
        "id": "avBsTBIQAtBX",
        "outputId": "d2ed3ea0-195e-407c-f49d-1dee0783f967"
      },
      "outputs": [],
      "source": [
        "policy_module = ProbabilisticActor(\n",
        "    module=policy_module,\n",
        "    spec=env.action_spec,\n",
        "    in_keys=[\"loc\", \"scale\"],\n",
        "    distribution_class=TanhNormal,\n",
        "    distribution_kwargs={\n",
        "        \"low\": env.action_spec.space.low,\n",
        "        \"high\": env.action_spec.space.high,\n",
        "    },\n",
        "    return_log_prob=True,\n",
        "    # we'll need the log-prob for the numerator of the importance weights\n",
        ")"
      ]
    },
    {
      "cell_type": "markdown",
      "metadata": {
        "id": "7IdJfoN7AtBY"
      },
      "source": [
        "Value network\n",
        "=============\n",
        "\n",
        "The value network is a crucial component of the PPO algorithm, even\n",
        "though it won\\'t be used at inference time. This module will read the\n",
        "observations and return an estimation of the discounted return for the\n",
        "following trajectory. This allows us to amortize learning by relying on\n",
        "the some utility estimation that is learned on-the-fly during training.\n",
        "Our value network share the same structure as the policy, but for\n",
        "simplicity we assign it its own set of parameters.\n"
      ]
    },
    {
      "cell_type": "code",
      "execution_count": 17,
      "metadata": {
        "id": "Ru7j7xXJAtBY"
      },
      "outputs": [],
      "source": [
        "value_net = nn.Sequential(\n",
        "    nn.LazyLinear(num_cells, device=device),\n",
        "    nn.Tanh(),\n",
        "    nn.LazyLinear(num_cells, device=device),\n",
        "    nn.Tanh(),\n",
        "    nn.LazyLinear(num_cells, device=device),\n",
        "    nn.Tanh(),\n",
        "    nn.LazyLinear(1, device=device),\n",
        ")\n",
        "\n",
        "value_module = ValueOperator(\n",
        "    module=value_net,\n",
        "    in_keys=[\"observation\"],\n",
        ")"
      ]
    },
    {
      "cell_type": "markdown",
      "metadata": {
        "id": "GLG1EoNaAtBZ"
      },
      "source": [
        "let\\'s try our policy and value modules. As we said earlier, the usage\n",
        "of `~tensordict.nn.TensorDictModule`{.interpreted-text role=\"class\"}\n",
        "makes it possible to directly read the output of the environment to run\n",
        "these modules, as they know what information to read and where to write\n",
        "it:\n"
      ]
    },
    {
      "cell_type": "code",
      "execution_count": 18,
      "metadata": {
        "colab": {
          "base_uri": "https://localhost:8080/"
        },
        "id": "kYojUNAoAtBZ",
        "outputId": "b61a7f3b-18ff-49fe-9fac-89c89973a534"
      },
      "outputs": [
        {
          "name": "stdout",
          "output_type": "stream",
          "text": [
            "Running policy: TensorDict(\n",
            "    fields={\n",
            "        action: Tensor(shape=torch.Size([3]), device=cuda:0, dtype=torch.float32, is_shared=True),\n",
            "        done: Tensor(shape=torch.Size([1]), device=cuda:0, dtype=torch.bool, is_shared=True),\n",
            "        loc: Tensor(shape=torch.Size([3]), device=cuda:0, dtype=torch.float32, is_shared=True),\n",
            "        observation: Tensor(shape=torch.Size([11]), device=cuda:0, dtype=torch.float32, is_shared=True),\n",
            "        sample_log_prob: Tensor(shape=torch.Size([]), device=cuda:0, dtype=torch.float32, is_shared=True),\n",
            "        scale: Tensor(shape=torch.Size([3]), device=cuda:0, dtype=torch.float32, is_shared=True),\n",
            "        step_count: Tensor(shape=torch.Size([1]), device=cuda:0, dtype=torch.int64, is_shared=True),\n",
            "        terminated: Tensor(shape=torch.Size([1]), device=cuda:0, dtype=torch.bool, is_shared=True),\n",
            "        truncated: Tensor(shape=torch.Size([1]), device=cuda:0, dtype=torch.bool, is_shared=True)},\n",
            "    batch_size=torch.Size([]),\n",
            "    device=cuda:0,\n",
            "    is_shared=True)\n",
            "Running value: TensorDict(\n",
            "    fields={\n",
            "        done: Tensor(shape=torch.Size([1]), device=cuda:0, dtype=torch.bool, is_shared=True),\n",
            "        observation: Tensor(shape=torch.Size([11]), device=cuda:0, dtype=torch.float32, is_shared=True),\n",
            "        state_value: Tensor(shape=torch.Size([1]), device=cuda:0, dtype=torch.float32, is_shared=True),\n",
            "        step_count: Tensor(shape=torch.Size([1]), device=cuda:0, dtype=torch.int64, is_shared=True),\n",
            "        terminated: Tensor(shape=torch.Size([1]), device=cuda:0, dtype=torch.bool, is_shared=True),\n",
            "        truncated: Tensor(shape=torch.Size([1]), device=cuda:0, dtype=torch.bool, is_shared=True)},\n",
            "    batch_size=torch.Size([]),\n",
            "    device=cuda:0,\n",
            "    is_shared=True)\n"
          ]
        }
      ],
      "source": [
        "print(\"Running policy:\", policy_module(env.reset()))\n",
        "print(\"Running value:\", value_module(env.reset()))"
      ]
    },
    {
      "cell_type": "markdown",
      "metadata": {
        "id": "qnBmyczpAtBa"
      },
      "source": [
        "Data collector\n",
        "==============\n",
        "\n",
        "TorchRL provides a set of [DataCollector\n",
        "classes](https://pytorch.org/rl/reference/collectors.html). Briefly,\n",
        "these classes execute three operations: reset an environment, compute an\n",
        "action given the latest observation, execute a step in the environment,\n",
        "and repeat the last two steps until the environment signals a stop (or\n",
        "reaches a done state).\n",
        "\n",
        "They allow you to control how many frames to collect at each iteration\n",
        "(through the `frames_per_batch` parameter), when to reset the\n",
        "environment (through the `max_frames_per_traj` argument), on which\n",
        "`device` the policy should be executed, etc. They are also designed to\n",
        "work efficiently with batched and multiprocessed environments.\n",
        "\n",
        "The simplest data collector is the\n",
        "`~torchrl.collectors.collectors.SyncDataCollector`{.interpreted-text\n",
        "role=\"class\"}: it is an iterator that you can use to get batches of data\n",
        "of a given length, and that will stop once a total number of frames\n",
        "(`total_frames`) have been collected. Other data collectors\n",
        "(`~torchrl.collectors.collectors.MultiSyncDataCollector`{.interpreted-text\n",
        "role=\"class\"} and\n",
        "`~torchrl.collectors.collectors.MultiaSyncDataCollector`{.interpreted-text\n",
        "role=\"class\"}) will execute the same operations in synchronous and\n",
        "asynchronous manner over a set of multiprocessed workers.\n",
        "\n",
        "As for the policy and environment before, the data collector will return\n",
        "`~tensordict.TensorDict`{.interpreted-text role=\"class\"} instances with\n",
        "a total number of elements that will match `frames_per_batch`. Using\n",
        "`~tensordict.TensorDict`{.interpreted-text role=\"class\"} to pass data to\n",
        "the training loop allows you to write data loading pipelines that are\n",
        "100% oblivious to the actual specificities of the rollout content.\n"
      ]
    },
    {
      "cell_type": "code",
      "execution_count": 19,
      "metadata": {
        "id": "X8h5gUKCAtBb"
      },
      "outputs": [],
      "source": [
        "collector = SyncDataCollector(\n",
        "    env,\n",
        "    policy_module,\n",
        "    frames_per_batch=frames_per_batch,\n",
        "    total_frames=total_frames,\n",
        "    split_trajs=False,\n",
        "    device=device,\n",
        ")"
      ]
    },
    {
      "cell_type": "markdown",
      "metadata": {
        "id": "7tNkoevgAtBb"
      },
      "source": [
        "Replay buffer\n",
        "=============\n",
        "\n",
        "Replay buffers are a common building piece of off-policy RL algorithms.\n",
        "In on-policy contexts, a replay buffer is refilled every time a batch of\n",
        "data is collected, and its data is repeatedly consumed for a certain\n",
        "number of epochs.\n",
        "\n",
        "TorchRL\\'s replay buffers are built using a common container\n",
        "`~torchrl.data.ReplayBuffer`{.interpreted-text role=\"class\"} which takes\n",
        "as argument the components of the buffer: a storage, a writer, a sampler\n",
        "and possibly some transforms. Only the storage (which indicates the\n",
        "replay buffer capacity) is mandatory. We also specify a sampler without\n",
        "repetition to avoid sampling multiple times the same item in one epoch.\n",
        "Using a replay buffer for PPO is not mandatory and we could simply\n",
        "sample the sub-batches from the collected batch, but using these classes\n",
        "make it easy for us to build the inner training loop in a reproducible\n",
        "way.\n"
      ]
    },
    {
      "cell_type": "code",
      "execution_count": 20,
      "metadata": {
        "id": "umUNIhnAAtBb"
      },
      "outputs": [],
      "source": [
        "replay_buffer = ReplayBuffer(\n",
        "    storage=LazyTensorStorage(max_size=frames_per_batch),\n",
        "    sampler=SamplerWithoutReplacement(),\n",
        ")"
      ]
    },
    {
      "cell_type": "markdown",
      "metadata": {
        "id": "s16jaUYrAtBc"
      },
      "source": [
        "Loss function\n",
        "=============\n",
        "\n",
        "The PPO loss can be directly imported from TorchRL for convenience using\n",
        "the `~torchrl.objectives.ClipPPOLoss`{.interpreted-text role=\"class\"}\n",
        "class. This is the easiest way of utilizing PPO: it hides away the\n",
        "mathematical operations of PPO and the control flow that goes with it.\n",
        "\n",
        "PPO requires some \\\"advantage estimation\\\" to be computed. In short, an\n",
        "advantage is a value that reflects an expectancy over the return value\n",
        "while dealing with the bias / variance tradeoff. To compute the\n",
        "advantage, one just needs to (1) build the advantage module, which\n",
        "utilizes our value operator, and (2) pass each batch of data through it\n",
        "before each epoch. The GAE module will update the input `tensordict`\n",
        "with new `\"advantage\"` and `\"value_target\"` entries. The\n",
        "`\"value_target\"` is a gradient-free tensor that represents the empirical\n",
        "value that the value network should represent with the input\n",
        "observation. Both of these will be used by\n",
        "`~torchrl.objectives.ClipPPOLoss`{.interpreted-text role=\"class\"} to\n",
        "return the policy and value losses.\n"
      ]
    },
    {
      "cell_type": "code",
      "execution_count": 21,
      "metadata": {
        "id": "iDSnGBJLAtBd"
      },
      "outputs": [],
      "source": [
        "advantage_module = GAE(\n",
        "        gamma=gamma, lmbda=lmbda, value_network=value_module, average_gae=True\n",
        "    )\n",
        "\n",
        "    loss_module = ClipPPOLoss(\n",
        "        actor_network=policy_module,\n",
        "        critic_network=value_module,\n",
        "        clip_epsilon=clip_epsilon,\n",
        "        entropy_bonus=bool(entropy_eps),\n",
        "        entropy_coef=entropy_eps,\n",
        "        # these keys match by default but we set this for completeness\n",
        "        critic_coef=1.0,\n",
        "        loss_critic_type=\"smooth_l1\",\n",
        "    )\n",
        "\n",
        "    optim = torch.optim.Adam(loss_module.parameters(), lr)\n",
        "    scheduler = torch.optim.lr_scheduler.CosineAnnealingLR(\n",
        "        optim, total_frames // frames_per_batch, 0.0\n",
        "    )"
      ]
    },
    {
      "cell_type": "markdown",
      "metadata": {
        "id": "fKmvlpiiAtBe"
      },
      "source": [
        "Training loop\n",
        "=============\n",
        "\n",
        "We now have all the pieces needed to code our training loop. The steps\n",
        "include:\n",
        "\n",
        "-   Collect data\n",
        "    -   Compute advantage\n",
        "        -   Loop over the collected to compute loss values\n",
        "        -   Back propagate\n",
        "        -   Optimize\n",
        "        -   Repeat\n",
        "    -   Repeat\n",
        "-   Repeat\n"
      ]
    },
    {
      "cell_type": "code",
      "execution_count": 22,
      "metadata": {
        "colab": {
          "base_uri": "https://localhost:8080/",
          "height": 1000
        },
        "id": "JdGKek0TAtBe",
        "outputId": "cdee27c8-85d8-409e-b2a6-4fe300f1fab4"
      },
      "outputs": [
        {
          "name": "stderr",
          "output_type": "stream",
          "text": [
            "eval cumulative reward:  112.7843 (init:  112.7843), eval step-count: 60, average reward= 2.1875 (init= 0.6955), step count (max): 108, lr policy:  0.0000: 100%|██████████| 10000/10000 [00:25<00:00, 384.87it/s]"
          ]
        }
      ],
      "source": [
        "logs = defaultdict(list)\n",
        "pbar = tqdm(total=total_frames)\n",
        "eval_str = \"\"\n",
        "\n",
        "# We iterate over the collector until it reaches the total number of frames it was\n",
        "# designed to collect:\n",
        "for i, tensordict_data in enumerate(collector):\n",
        "    # we now have a batch of data to work with. Let's learn something from it.\n",
        "    for _ in range(num_epochs):\n",
        "        # We'll need an \"advantage\" signal to make PPO work.\n",
        "        # We re-compute it at each epoch as its value depends on the value\n",
        "        # network which is updated in the inner loop.\n",
        "        advantage_module(tensordict_data)\n",
        "        data_view = tensordict_data.reshape(-1)\n",
        "        replay_buffer.extend(data_view.cpu())\n",
        "        for _ in range(frames_per_batch // sub_batch_size):\n",
        "            subdata = replay_buffer.sample(sub_batch_size)\n",
        "            loss_vals = loss_module(subdata.to(device))\n",
        "            loss_value = (\n",
        "                loss_vals[\"loss_objective\"]\n",
        "                + loss_vals[\"loss_critic\"]\n",
        "                + loss_vals[\"loss_entropy\"]\n",
        "            )\n",
        "\n",
        "            # Optimization: backward, grad clipping and optimization step\n",
        "            loss_value.backward()\n",
        "            # this is not strictly mandatory but it's good practice to keep\n",
        "            # your gradient norm bounded\n",
        "            torch.nn.utils.clip_grad_norm_(loss_module.parameters(), max_grad_norm)\n",
        "            optim.step()\n",
        "            optim.zero_grad()\n",
        "\n",
        "    logs[\"reward\"].append(tensordict_data[\"next\", \"reward\"].mean().item())\n",
        "    pbar.update(tensordict_data.numel())\n",
        "    cum_reward_str = (\n",
        "        f\"average reward={logs['reward'][-1]: 4.4f} (init={logs['reward'][0]: 4.4f})\"\n",
        "    )\n",
        "    logs[\"step_count\"].append(tensordict_data[\"step_count\"].max().item())\n",
        "    stepcount_str = f\"step count (max): {logs['step_count'][-1]}\"\n",
        "    logs[\"lr\"].append(optim.param_groups[0][\"lr\"])\n",
        "    lr_str = f\"lr policy: {logs['lr'][-1]: 4.4f}\"\n",
        "    if i % 10 == 0:\n",
        "        # We evaluate the policy once every 10 batches of data.\n",
        "        # Evaluation is rather simple: execute the policy without exploration\n",
        "        # (take the expected value of the action distribution) for a given\n",
        "        # number of steps (1000, which is our ``env`` horizon).\n",
        "        # The ``rollout`` method of the ``env`` can take a policy as argument:\n",
        "        # it will then execute this policy at each step.\n",
        "        with set_exploration_type(ExplorationType.DETERMINISTIC), torch.no_grad():\n",
        "            # execute a rollout with the trained policy\n",
        "            eval_rollout = env.rollout(1000, policy_module)\n",
        "            logs[\"eval reward\"].append(eval_rollout[\"next\", \"reward\"].mean().item())\n",
        "            logs[\"Return (test)\"].append(\n",
        "                eval_rollout[\"next\", \"reward\"].sum().item()\n",
        "            )\n",
        "            logs[\"Max step count (test)\"].append(eval_rollout[\"step_count\"].max().item())\n",
        "            eval_str = (\n",
        "                f\"eval cumulative reward: {logs['Return (test)'][-1]: 4.4f} \"\n",
        "                f\"(init: {logs['Return (test)'][0]: 4.4f}), \"\n",
        "                f\"eval step-count: {logs['Max step count (test)'][-1]}\"\n",
        "            )\n",
        "            del eval_rollout\n",
        "    pbar.set_description(\", \".join([eval_str, cum_reward_str, stepcount_str, lr_str]))\n",
        "\n",
        "    # We're also using a learning rate scheduler. Like the gradient clipping,\n",
        "    # this is a nice-to-have but nothing necessary for PPO to work.\n",
        "    scheduler.step()"
      ]
    },
    {
      "cell_type": "markdown",
      "metadata": {
        "id": "gjyXpQAJAtBf"
      },
      "source": [
        "Results\n",
        "=======\n",
        "\n",
        "Before the 1M step cap is reached, the algorithm should have reached a\n",
        "max step count of 1000 steps, which is the maximum number of steps\n",
        "before the trajectory is truncated.\n"
      ]
    },
    {
      "cell_type": "code",
      "execution_count": 23,
      "metadata": {
        "colab": {
          "base_uri": "https://localhost:8080/",
          "height": 853
        },
        "id": "zW8w1Yx1AtBf",
        "outputId": "a09abf46-f139-420c-f1db-6344a9614e60"
      },
      "outputs": [
        {
          "data": {
            "image/png": "[encoded data removed]",
            "text/plain": [
              "<Figure size 1000x1000 with 4 Axes>"
            ]
          },
          "metadata": {},
          "output_type": "display_data"
        }
      ],
      "source": [
        "plt.figure(figsize=(10, 10))\n",
        "plt.subplot(2, 2, 1)\n",
        "plt.plot(logs[\"reward\"])\n",
        "plt.title(\"training rewards (average)\")\n",
        "plt.subplot(2, 2, 2)\n",
        "plt.plot(logs[\"step_count\"])\n",
        "plt.title(\"Max step count (training)\")\n",
        "plt.subplot(2, 2, 3)\n",
        "plt.plot(logs[\"Return (test)\"])\n",
        "plt.title(\"Return (test)\")\n",
        "plt.subplot(2, 2, 4)\n",
        "plt.plot(logs[\"Max step count (test)\"])\n",
        "plt.title(\"Max step count (test)\")\n",
        "plt.savefig(f'../runs/PPO/plots_{run_name}.jpg', dpi=150)\n",
        "plt.show()"
      ]
    },
    {
      "cell_type": "markdown",
      "metadata": {},
      "source": [
        "## Saving logs and model"
      ]
    },
    {
      "cell_type": "code",
      "execution_count": 24,
      "metadata": {},
      "outputs": [
        {
          "name": "stdout",
          "output_type": "stream",
          "text": [
            "Model saved to ../runs/PPO/PPO_Hopper-v4_10000.pth\n"
          ]
        }
      ],
      "source": [
        "# Define save path\n",
        "save_path = f\"../runs/PPO/{run_name}.pth\"\n",
        "\n",
        "# Create a dictionary\n",
        "checkpoint = {\n",
        "    \"policy_state_dict\": policy_module.state_dict(),\n",
        "    \"value_state_dict\": value_module.state_dict(),\n",
        "    \"optimizer_state_dict\": optim.state_dict(),\n",
        "    \"hyperparameters\": {\n",
        "        \"num_cells\": num_cells,\n",
        "        \"lr\": lr,\n",
        "        \"gamma\": gamma,\n",
        "        \"lmbda\": lmbda,\n",
        "        \"entropy_eps\": entropy_eps,\n",
        "    }\n",
        "}\n",
        "\n",
        "# Save checkpoint\n",
        "torch.save(checkpoint, save_path)\n",
        "print(f\"Model saved to {save_path}\")"
      ]
    },
    {
      "cell_type": "code",
      "execution_count": 25,
      "metadata": {},
      "outputs": [
        {
          "name": "stdout",
          "output_type": "stream",
          "text": [
            "Logs saved to training_logs.csv\n"
          ]
        },
        {
          "name": "stderr",
          "output_type": "stream",
          "text": [
            "eval cumulative reward:  112.7843 (init:  112.7843), eval step-count: 60, average reward= 2.1875 (init= 0.6955), step count (max): 108, lr policy:  0.0000: 100%|██████████| 10000/10000 [00:39<00:00, 384.87it/s]"
          ]
        }
      ],
      "source": [
        "import pandas as pd\n",
        "\n",
        "# Find the maximum length of any logged metric\n",
        "max_length = max(len(logs[key]) for key in logs)\n",
        "\n",
        "# Pad all lists to match max_length\n",
        "for key in logs:\n",
        "    while len(logs[key]) < max_length:\n",
        "        logs[key].append(None)  # Fill with None (or np.nan)\n",
        "\n",
        "# Convert to DataFrame\n",
        "df_logs = pd.DataFrame.from_dict(logs)\n",
        "\n",
        "# Save to CSV\n",
        "df_logs.to_csv(f\"../runs/PPO/logs_{run_name}.csv\", index=False)\n",
        "\n",
        "print(\"Logs saved\")"
      ]
    },
    {
      "cell_type": "markdown",
      "metadata": {},
      "source": [
        "# Rendering"
      ]
    },
    {
      "cell_type": "markdown",
      "metadata": {},
      "source": [
        "import os\n",
        "os.environ[\"MUJOCO_GL\"] = \"egl\""
      ]
    },
    {
      "cell_type": "markdown",
      "metadata": {},
      "source": [
        "import time\n",
        "\n",
        "# Create an environment with rendering enabled\n",
        "render_env = GymEnv(\"Hopper-v4\", device=device, render_mode=\"human\")\n",
        "\n",
        "# Reset environment\n",
        "tensordict = render_env.reset()\n",
        "done = False\n",
        "\n",
        "# Execute policy in a loop\n",
        "with torch.no_grad():\n",
        "    while not done:\n",
        "        tensordict[\"observation\"] = tensordict[\"observation\"].to(torch.float32)  # Convert dtype\n",
        "        action = policy_module(tensordict)  # Get action from trained policy\n",
        "        tensordict = render_env.step(action)  # Step in environment\n",
        "        render_env.render()  # Render environment\n",
        "        time.sleep(0.02)  # Add a small delay for smooth visualization\n",
        "        done = tensordict[\"done\"].item()  # Check if episode is over\n",
        "\n",
        "# Close environment\n",
        "render_env.close()\n"
      ]
    },
    {
      "cell_type": "markdown",
      "metadata": {},
      "source": [
        "# From there it doesn't work but i want to keep it for later"
      ]
    },
    {
      "cell_type": "markdown",
      "metadata": {
        "vscode": {
          "languageId": "plaintext"
        }
      },
      "source": [
        "import time\n",
        "from tensordict import TensorDict\n",
        "from torchrl.envs import TransformedEnv, Compose, DoubleToFloat, ObservationNorm\n",
        "import torch  # Ensure torch is imported\n",
        "\n",
        "# Create render_env without StepCounter()\n",
        "render_env = TransformedEnv(\n",
        "    GymEnv(\"Hopper-v4\", device=device, render_mode=\"human\"),\n",
        "    Compose(\n",
        "        ObservationNorm(in_keys=[\"observation\"]),  # Ensure same normalization\n",
        "        DoubleToFloat(),  # Ensure dtype is float32\n",
        "    ),\n",
        ")\n",
        "\n",
        "# Copy normalization stats from `env` (not `base_env`) to `render_env`\n",
        "render_env.transform[0].loc = env.transform[0].loc\n",
        "render_env.transform[0].scale = env.transform[0].scale\n",
        "\n",
        "# Reset environment\n",
        "tensordict = render_env.reset()\n",
        "print(\"Available keys in TensorDict after reset:\", tensordict.keys())  # Debugging\n",
        "\n",
        "done = False\n",
        "\n",
        "# Run trained policy\n",
        "with torch.no_grad():\n",
        "    while not done:\n",
        "        # Fix missing observation key\n",
        "        obs_key = \"observation\" if \"observation\" in tensordict.keys() else \"next\"\n",
        "        tensordict[\"observation\"] = tensordict.get(obs_key).to(torch.float32)\n",
        "\n",
        "        action = policy_module(tensordict)  # Get action from trained policy\n",
        "\n",
        "        # Extract action correctly\n",
        "        action = action[\"action\"]\n",
        "\n",
        "        # Wrap action in a proper TensorDict\n",
        "        tensordict = render_env.step(TensorDict({\"action\": action}, batch_size=[]))\n",
        "\n",
        "        # Debugging: Print available keys\n",
        "        print(\"Available keys in TensorDict after step:\", tensordict.keys())\n",
        "\n",
        "        render_env.render()  # Render environment\n",
        "        time.sleep(0.02)  # Small delay for smooth visualization\n",
        "\n",
        "        # Ensure `done` is a Tensor before calling .item()\n",
        "        done = tensordict.get(\"done\", tensordict.get(\"terminated\", tensordict.get(\"truncated\", torch.tensor(False))))\n",
        "        done = done.item() if isinstance(done, torch.Tensor) else done  # Fixed\n",
        "\n",
        "# Close environment\n",
        "render_env.close()"
      ]
    }
  ],
  "metadata": {
    "accelerator": "GPU",
    "colab": {
      "gpuType": "T4",
      "provenance": []
    },
    "kernelspec": {
      "display_name": "Python 3",
      "name": "python3"
    },
    "language_info": {
      "codemirror_mode": {
        "name": "ipython",
        "version": 3
      },
      "file_extension": ".py",
      "mimetype": "text/x-python",
      "name": "python",
      "nbconvert_exporter": "python",
      "pygments_lexer": "ipython3",
      "version": "3.9.21"
    }
  },
  "nbformat": 4,
  "nbformat_minor": 0
}
