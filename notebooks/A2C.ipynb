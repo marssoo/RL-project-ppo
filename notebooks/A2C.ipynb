{
 "cells": [
  {
   "cell_type": "markdown",
   "metadata": {},
   "source": [
    "# A2C on Hopper v4"
   ]
  },
  {
   "cell_type": "code",
   "execution_count": 1,
   "metadata": {},
   "outputs": [],
   "source": [
    "import warnings\n",
    "warnings.filterwarnings(\"ignore\")\n",
    "from torch import multiprocessing\n",
    "from collections import defaultdict\n",
    "import matplotlib.pyplot as plt\n",
    "import torch\n",
    "from tensordict.nn import TensorDictModule\n",
    "from tensordict.nn.distributions import NormalParamExtractor\n",
    "from torch import nn\n",
    "from torchrl.collectors import SyncDataCollector\n",
    "from torchrl.data.replay_buffers import ReplayBuffer\n",
    "from torchrl.data.replay_buffers.samplers import SamplerWithoutReplacement\n",
    "from torchrl.data.replay_buffers.storages import LazyTensorStorage\n",
    "from torchrl.envs import (Compose, DoubleToFloat, ObservationNorm, StepCounter,\n",
    "                          TransformedEnv)\n",
    "from torchrl.envs.libs.gym import GymEnv\n",
    "from torchrl.envs.utils import check_env_specs, ExplorationType, set_exploration_type\n",
    "from torchrl.modules import ProbabilisticActor, TanhNormal, ValueOperator\n",
    "from torchrl.objectives import A2CLoss\n",
    "from torchrl.objectives.value import GAE\n",
    "from tqdm import tqdm"
   ]
  },
  {
   "cell_type": "code",
   "execution_count": 2,
   "metadata": {},
   "outputs": [],
   "source": [
    "is_fork = multiprocessing.get_start_method() == \"fork\"\n",
    "device = (\n",
    "    torch.device(0)\n",
    "    if torch.cuda.is_available() and not is_fork\n",
    "    else torch.device(\"cpu\")\n",
    ")"
   ]
  },
  {
   "cell_type": "markdown",
   "metadata": {},
   "source": [
    "## Setting parameters\n"
   ]
  },
  {
   "cell_type": "code",
   "execution_count": 3,
   "metadata": {},
   "outputs": [],
   "source": [
    "num_cells = 256\n",
    "lr = 2e-5\n",
    "max_grad_norm = 1.0\n",
    "\n",
    "frames_per_batch = 1000\n",
    "#total_frames = 250_000\n",
    "#total_frames = 10_000\n",
    "total_frames = 1_000_000\n",
    "\n",
    "gamma = 0.99\n",
    "lmbda = 0.95\n",
    "entropy_eps = 1e-4\n"
   ]
  },
  {
   "cell_type": "markdown",
   "metadata": {},
   "source": [
    "## Environment setup"
   ]
  },
  {
   "cell_type": "code",
   "execution_count": 4,
   "metadata": {},
   "outputs": [
    {
     "name": "stderr",
     "output_type": "stream",
     "text": [
      "2025-02-21 21:34:01,802 [torchrl][INFO] check_env_specs succeeded!\n"
     ]
    }
   ],
   "source": [
    "env_name = \"Hopper-v4\"\n",
    "base_env = GymEnv(env_name, device=device)\n",
    "\n",
    "#name of the run\n",
    "run_id = 1\n",
    "run_name = f'A2C_{env_name}_{run_id}_{total_frames}'\n",
    "\n",
    "env = TransformedEnv(\n",
    "    base_env,\n",
    "    Compose(\n",
    "        ObservationNorm(in_keys=[\"observation\"]),\n",
    "        DoubleToFloat(),\n",
    "        StepCounter(),\n",
    "    ),\n",
    ")\n",
    "\n",
    "env.transform[0].init_stats(num_iter=1000, reduce_dim=0, cat_dim=0)\n",
    "check_env_specs(env)"
   ]
  },
  {
   "cell_type": "markdown",
   "metadata": {},
   "source": [
    "## Policy (Actor)\n"
   ]
  },
  {
   "cell_type": "code",
   "execution_count": 5,
   "metadata": {},
   "outputs": [],
   "source": [
    "actor_net = nn.Sequential(\n",
    "    nn.LazyLinear(num_cells, device=device),\n",
    "    nn.Tanh(),\n",
    "    nn.LazyLinear(num_cells, device=device),\n",
    "    nn.Tanh(),\n",
    "    nn.LazyLinear(num_cells, device=device),\n",
    "    nn.Tanh(),\n",
    "    nn.LazyLinear(2 * env.action_spec.shape[-1], device=device),\n",
    "    NormalParamExtractor(),\n",
    ")\n",
    "\n",
    "policy_module = TensorDictModule(actor_net, in_keys=[\"observation\"], out_keys=[\"loc\", \"scale\"])\n",
    "\n",
    "policy_module = ProbabilisticActor(\n",
    "    module=policy_module,\n",
    "    spec=env.action_spec,\n",
    "    in_keys=[\"loc\", \"scale\"],\n",
    "    distribution_class=TanhNormal,\n",
    "    distribution_kwargs={\n",
    "        \"low\": env.action_spec.space.low,\n",
    "        \"high\": env.action_spec.space.high,\n",
    "    },\n",
    "    return_log_prob=True,\n",
    ")"
   ]
  },
  {
   "cell_type": "markdown",
   "metadata": {},
   "source": [
    "## Value network (Critic)\n"
   ]
  },
  {
   "cell_type": "code",
   "execution_count": 6,
   "metadata": {},
   "outputs": [],
   "source": [
    "value_net = nn.Sequential(\n",
    "    nn.LazyLinear(num_cells, device=device),\n",
    "    nn.Tanh(),\n",
    "    nn.LazyLinear(num_cells, device=device),\n",
    "    nn.Tanh(),\n",
    "    nn.LazyLinear(num_cells, device=device),\n",
    "    nn.Tanh(),\n",
    "    nn.LazyLinear(1, device=device),\n",
    ")\n",
    "\n",
    "value_module = ValueOperator(module=value_net, in_keys=[\"observation\"])"
   ]
  },
  {
   "cell_type": "code",
   "execution_count": 7,
   "metadata": {},
   "outputs": [
    {
     "name": "stdout",
     "output_type": "stream",
     "text": [
      "Actor and Critic networks initialized.\n"
     ]
    }
   ],
   "source": [
    "# Initialize LazyLinear layers with a dummy input\n",
    "dummy_input = env.reset()[\"observation\"].unsqueeze(0)  # Create a dummy batch of observations\n",
    "\n",
    "# Forward pass through actor and critic networks to initialize LazyLinear layers\n",
    "with torch.no_grad():\n",
    "    policy_module(dummy_input)  # Initialize actor\n",
    "    value_module(dummy_input)   # Initialize critic\n",
    "\n",
    "print(\"Actor and Critic networks initialized.\")"
   ]
  },
  {
   "cell_type": "markdown",
   "metadata": {},
   "source": [
    "## Data collector\n"
   ]
  },
  {
   "cell_type": "code",
   "execution_count": 8,
   "metadata": {},
   "outputs": [],
   "source": [
    "collector = SyncDataCollector(\n",
    "    env,\n",
    "    policy_module,\n",
    "    frames_per_batch=frames_per_batch,\n",
    "    total_frames=total_frames,\n",
    "    split_trajs=False,\n",
    "    device=device,\n",
    ")\n",
    "\n",
    "# Replay buffer\n",
    "replay_buffer = ReplayBuffer(\n",
    "    storage=LazyTensorStorage(max_size=frames_per_batch),\n",
    "    sampler=SamplerWithoutReplacement(),\n",
    ")"
   ]
  },
  {
   "cell_type": "markdown",
   "metadata": {},
   "source": [
    "## Loss function for A2C"
   ]
  },
  {
   "cell_type": "code",
   "execution_count": 9,
   "metadata": {},
   "outputs": [],
   "source": [
    "advantage_module = GAE(\n",
    "    gamma=gamma, lmbda=lmbda, value_network=value_module, average_gae=True\n",
    ")\n",
    "loss_module = A2CLoss(\n",
    "    actor_network=policy_module,\n",
    "    critic_network=value_module,\n",
    "    entropy_bonus=bool(entropy_eps),\n",
    "    entropy_coef=entropy_eps,\n",
    "    critic_coef=1.0,\n",
    "    loss_critic_type=\"smooth_l1\",\n",
    ")"
   ]
  },
  {
   "cell_type": "markdown",
   "metadata": {},
   "source": [
    "## Training loop"
   ]
  },
  {
   "cell_type": "code",
   "execution_count": 10,
   "metadata": {},
   "outputs": [
    {
     "name": "stderr",
     "output_type": "stream",
     "text": [
      "Eval cumulative reward: 38.1742 (init: 38.1742), Eval step-count: 66, Avg reward: 1.0514 (init: 0.6534), Step count (max): 75, LR policy: 0.0000:   0%|          | 0/10000 [00:16<?, ?it/s]\n"
     ]
    }
   ],
   "source": [
    "optim = torch.optim.Adam(loss_module.parameters(), lr)\n",
    "logs = defaultdict(list)\n",
    "pbar = tqdm(total=total_frames)\n",
    "\n",
    "logs[\"step_count\"] = []\n",
    "logs[\"Max Step Count (Test)\"] = []\n",
    "logs[\"eval reward\"] = []\n",
    "logs[\"lr\"] = []\n",
    "\n",
    "for i, tensordict_data in enumerate(collector):\n",
    "    advantage_module(tensordict_data)\n",
    "    data_view = tensordict_data.reshape(-1)\n",
    "    replay_buffer.extend(data_view.cpu())\n",
    "    \n",
    "    for _ in range(frames_per_batch // 64):\n",
    "        subdata = replay_buffer.sample(64)\n",
    "        loss_vals = loss_module(subdata.to(device))\n",
    "        loss_value = (\n",
    "            loss_vals[\"loss_objective\"] + \n",
    "            loss_vals[\"loss_critic\"] + \n",
    "            loss_vals[\"loss_entropy\"]\n",
    "        )\n",
    "\n",
    "        loss_value.backward()\n",
    "        torch.nn.utils.clip_grad_norm_(loss_module.parameters(), max_grad_norm)\n",
    "        optim.step()\n",
    "        optim.zero_grad()\n",
    "\n",
    "    # Store training rewards\n",
    "    logs[\"reward\"].append(tensordict_data[\"next\", \"reward\"].mean().item())\n",
    "    logs[\"step_count\"].append(tensordict_data[\"step_count\"].max().item())\n",
    "    logs[\"lr\"].append(optim.param_groups[0][\"lr\"])\n",
    "    \n",
    "    # Update progress bar\n",
    "    cum_reward_str = f\"Avg reward: {logs['reward'][-1]:.4f} (init: {logs['reward'][0]:.4f})\"\n",
    "    stepcount_str = f\"Step count (max): {logs['step_count'][-1]}\"\n",
    "    lr_str = f\"LR policy: {logs['lr'][-1]:.4f}\"\n",
    "    \n",
    "    if i % 10 == 0:\n",
    "        with set_exploration_type(ExplorationType.DETERMINISTIC), torch.no_grad():\n",
    "            eval_rollout = env.rollout(1000, policy_module)\n",
    "            logs[\"eval reward\"].append(eval_rollout[\"next\", \"reward\"].mean().item())\n",
    "            logs[\"Return (Test)\"].append(eval_rollout[\"next\", \"reward\"].sum().item())\n",
    "            logs[\"Max Step Count (Test)\"].append(eval_rollout[\"step_count\"].max().item())\n",
    "        \n",
    "        eval_str = (\n",
    "            f\"Eval cumulative reward: {logs['Return (Test)'][-1]:.4f} \"\n",
    "            f\"(init: {logs['Return (Test)'][0]:.4f}), \"\n",
    "            f\"Eval step-count: {logs['Max Step Count (Test)'][-1]}\"\n",
    "        )\n",
    "        del eval_rollout\n",
    "\n",
    "    pbar.set_description(\", \".join([eval_str, cum_reward_str, stepcount_str, lr_str]))\n",
    "\n",
    "pbar.close()"
   ]
  },
  {
   "cell_type": "code",
   "execution_count": 11,
   "metadata": {},
   "outputs": [
    {
     "data": {
      "image/png": "[encoded data removed]",
      "text/plain": [
       "<Figure size 1000x1000 with 4 Axes>"
      ]
     },
     "metadata": {},
     "output_type": "display_data"
    }
   ],
   "source": [
    "plt.figure(figsize=(10, 10))\n",
    "\n",
    "# Training rewards\n",
    "plt.subplot(2, 2, 1)\n",
    "plt.plot(logs[\"reward\"])\n",
    "plt.title(\"Training Rewards (Average)\")\n",
    "\n",
    "# Max step count during training\n",
    "plt.subplot(2, 2, 2)\n",
    "plt.plot(logs[\"step_count\"])\n",
    "plt.title(\"Max Step Count (Training)\")\n",
    "\n",
    "# Evaluation return\n",
    "plt.subplot(2, 2, 3)\n",
    "plt.plot(logs[\"Return (Test)\"])\n",
    "plt.title(\"Return (Test)\")\n",
    "\n",
    "# Max step count during evaluation\n",
    "plt.subplot(2, 2, 4)\n",
    "plt.plot(logs[\"Max Step Count (Test)\"])\n",
    "plt.title(\"Max Step Count (Test)\")\n",
    "\n",
    "plt.savefig(f'../runs/A2C/plots_{run_name}.jpg', dpi=150)\n",
    "plt.show()\n"
   ]
  },
  {
   "cell_type": "markdown",
   "metadata": {},
   "source": [
    "## Saving logs and model"
   ]
  },
  {
   "cell_type": "code",
   "execution_count": 12,
   "metadata": {},
   "outputs": [
    {
     "name": "stdout",
     "output_type": "stream",
     "text": [
      "Model saved to ../runs/A2C/A2C_Hopper-v4_10000.pth\n"
     ]
    }
   ],
   "source": [
    "# Define save path\n",
    "save_path = f\"../runs/A2C/{run_name}.pth\"\n",
    "\n",
    "# Create a dictionary\n",
    "checkpoint = {\n",
    "    \"policy_state_dict\": policy_module.state_dict(),\n",
    "    \"value_state_dict\": value_module.state_dict(),\n",
    "    \"optimizer_state_dict\": optim.state_dict(),\n",
    "    \"hyperparameters\": {\n",
    "        \"num_cells\": num_cells,\n",
    "        \"lr\": lr,\n",
    "        \"gamma\": gamma,\n",
    "        \"lmbda\": lmbda,\n",
    "        \"entropy_eps\": entropy_eps,\n",
    "    }\n",
    "}\n",
    "\n",
    "# Save checkpoint\n",
    "torch.save(checkpoint, save_path)\n",
    "print(f\"Model saved to {save_path}\")"
   ]
  },
  {
   "cell_type": "code",
   "execution_count": 13,
   "metadata": {},
   "outputs": [
    {
     "name": "stdout",
     "output_type": "stream",
     "text": [
      "Logs saved to training_logs.csv\n"
     ]
    }
   ],
   "source": [
    "import pandas as pd\n",
    "\n",
    "# Find the maximum length of any logged metric\n",
    "max_length = max(len(logs[key]) for key in logs)\n",
    "\n",
    "# Pad all lists to match max_length\n",
    "for key in logs:\n",
    "    while len(logs[key]) < max_length:\n",
    "        logs[key].append(None)  # Fill with None (or np.nan)\n",
    "\n",
    "# Convert to DataFrame\n",
    "df_logs = pd.DataFrame.from_dict(logs)\n",
    "\n",
    "# Save to CSV\n",
    "df_logs.to_csv(f\"../runs/A2C/logs_{run_name}.csv\", index=False)\n",
    "\n",
    "print(\"Logs saved\")\n"
   ]
  },
  {
   "cell_type": "markdown",
   "metadata": {},
   "source": [
    "# rendering"
   ]
  },
  {
   "cell_type": "markdown",
   "metadata": {},
   "source": [
    "import time\n",
    "\n",
    "# Create an environment with rendering enabled\n",
    "render_env = GymEnv(\"Hopper-v4\", device=device, render_mode=\"human\")\n",
    "\n",
    "# Reset environment\n",
    "tensordict = render_env.reset()\n",
    "done = False\n",
    "\n",
    "# Execute policy in a loop\n",
    "with torch.no_grad():\n",
    "    while not done:\n",
    "        tensordict[\"observation\"] = tensordict[\"observation\"].to(torch.float32)  # Convert dtype\n",
    "        action = policy_module(tensordict)  # Get action from trained policy\n",
    "        tensordict = render_env.step(action)  # Step in environment\n",
    "        render_env.render()  # Render environment\n",
    "        time.sleep(0.02)  # Add a small delay for smooth visualization\n",
    "        done = tensordict[\"done\"].item()  # Check if episode is over\n",
    "\n",
    "# Close environment\n",
    "render_env.close()\n"
   ]
  },
  {
   "cell_type": "code",
   "execution_count": null,
   "metadata": {},
   "outputs": [],
   "source": []
  }
 ],
 "metadata": {
  "kernelspec": {
   "display_name": "rl",
   "language": "python",
   "name": "python3"
  },
  "language_info": {
   "codemirror_mode": {
    "name": "ipython",
    "version": 3
   },
   "file_extension": ".py",
   "mimetype": "text/x-python",
   "name": "python",
   "nbconvert_exporter": "python",
   "pygments_lexer": "ipython3",
   "version": "3.9.21"
  }
 },
 "nbformat": 4,
 "nbformat_minor": 2
}
